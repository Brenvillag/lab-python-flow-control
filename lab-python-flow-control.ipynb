{
 "cells": [
  {
   "cell_type": "markdown",
   "id": "d3bfc191-8885-42ee-b0a0-bbab867c6f9f",
   "metadata": {
    "tags": []
   },
   "source": [
    "# Lab | Flow Control"
   ]
  },
  {
   "cell_type": "markdown",
   "id": "3851fcd1-cf98-4653-9c89-e003b7ec9400",
   "metadata": {},
   "source": [
    "## Exercise: Managing Customer Orders Optimized\n",
    "\n",
    "In the last lab, you were starting an online store that sells various products. To ensure smooth operations, you developed a program that manages customer orders and inventory.\n",
    "\n",
    "You did so without using flow control. Let's go a step further and improve this code.\n",
    "\n",
    "Follow the steps below to complete the exercise:\n",
    "\n",
    "1. Look at your code from the lab data structures, and improve repeated code with loops.\n",
    "\n",
    "2. Instead of asking the user to input the name of three products that a customer wants to order, do the following:\n",
    "    \n",
    "    a. Prompt the user to enter the name of a product that a customer wants to order.\n",
    "    \n",
    "    b. Add the product name to the \"customer_orders\" set.\n",
    "    \n",
    "    c. Ask the user if they want to add another product (yes/no).\n",
    "    \n",
    "    d. Continue the loop until the user does not want to add another product.\n",
    "\n",
    "3. Instead of updating the inventory by subtracting 1 from the quantity of each product, only do it for  the products that were ordered (those in \"customer_orders\")."
   ]
  },
  {
   "cell_type": "code",
   "execution_count": 16,
   "id": "96699be1-9322-4775-a48c-aadea0c9b071",
   "metadata": {},
   "outputs": [
    {
     "name": "stdin",
     "output_type": "stream",
     "text": [
      "Enter the quantity for t-shirt:  10\n",
      "Enter the quantity for mug:  50\n",
      "Enter the quantity for hat:  4\n",
      "Enter the quantity for book:  10\n",
      "Enter the quantity for keychain:  40\n",
      "Enter customer product:  mug\n",
      "Add another product? (yes/no):  yes\n",
      "Enter customer product:  hat\n",
      "Add another product? (yes/no):  yes\n",
      "Enter customer product:  t-shirt\n",
      "Add another product? (yes/no):  yes\n",
      "Enter customer product:  keychain\n",
      "Add another product? (yes/no):  no\n"
     ]
    },
    {
     "name": "stdout",
     "output_type": "stream",
     "text": [
      "\n",
      "Order:  {'mug', 't-shirt', 'keychain', 'hat'}\n",
      "\n",
      "Order Statistics:  5\n",
      "Total Products Ordered:  4\n",
      "Percentage of Products Ordered:  80.0 %\n",
      "\n",
      "Updated Inventory:\n",
      "t-shirt: 9\n",
      "mug: 49\n",
      "hat: 3\n",
      "book: 10\n",
      "keychain: 39\n"
     ]
    }
   ],
   "source": [
    "products = [\"t-shirt\", \"mug\", \"hat\", \"book\", \"keychain\"]\n",
    "inventory = {}\n",
    "for product in products:\n",
    "    quantity = int(input(\"Enter the quantity for \" + product + \": \"))\n",
    "    inventory[product] = quantity\n",
    "\n",
    "customer_orders = set()\n",
    "\n",
    "while True:\n",
    "    product_name = input(\"Enter customer product: \").strip()\n",
    "    if product_name in products:\n",
    "        customer_orders.add(product_name)\n",
    "    else:\n",
    "        print(\"Not in inventory\")\n",
    "        \n",
    "    another = input(\"Add another product? (yes/no): \").strip()\n",
    "    \n",
    "    if another != \"yes\":\n",
    "        break\n",
    "    \n",
    "\n",
    "print(\"\\nOrder: \", customer_orders)\n",
    "\n",
    "Total_Products_Ordered = len(customer_orders)\n",
    "Total_Products = len(products)\n",
    "Percentage_of_products_ordered = (Total_Products_Ordered/Total_Products)*100\n",
    "\n",
    "order_status = (Total_Products_Ordered, Total_Products, Percentage_of_products_ordered)\n",
    "\n",
    "print(\"\\nOrder Statistics: \", Total_Products)\n",
    "print(\"Total Products Ordered: \", Total_Products_Ordered)\n",
    "print(\"Percentage of Products Ordered: \", Percentage_of_products_ordered, \"%\")\n",
    "\n",
    "for product in customer_orders:\n",
    "    if product in inventory and inventory[product] > 0:\n",
    "        inventory[product] = inventory[product] - 1\n",
    "\n",
    "print(\"\\nUpdated Inventory:\")\n",
    "for product in inventory:\n",
    "    print(product + \": \" + str(inventory[product]))\n"
   ]
  },
  {
   "cell_type": "code",
   "execution_count": null,
   "id": "972d99d9-eac6-41aa-8617-ddfc7566e42b",
   "metadata": {},
   "outputs": [],
   "source": []
  }
 ],
 "metadata": {
  "kernelspec": {
   "display_name": "Python 3 (ipykernel)",
   "language": "python",
   "name": "python3"
  },
  "language_info": {
   "codemirror_mode": {
    "name": "ipython",
    "version": 3
   },
   "file_extension": ".py",
   "mimetype": "text/x-python",
   "name": "python",
   "nbconvert_exporter": "python",
   "pygments_lexer": "ipython3",
   "version": "3.12.7"
  }
 },
 "nbformat": 4,
 "nbformat_minor": 5
}
